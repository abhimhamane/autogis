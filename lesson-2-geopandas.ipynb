{
 "cells": [
  {
   "cell_type": "markdown",
   "metadata": {},
   "source": [
    "# Lesson-2 Geopandas\n",
    "\n",
    "**Goals**\n",
    " 1. read and write spatial data\n",
    " 2. filter, re-group data by spatial and aspatial characteristics\n",
    " 3. manage and transform data's CRS \n",
    "\n",
    "**Resources**\n",
    " - Lesson-2 AutoGIS - https://autogis-site.readthedocs.io/en/latest/lessons/lesson-2/overview.html\n",
    " - shapefile definition - https://help.arcgis.com/en/arcgisdesktop/10.0/help/index.html#/Shapefile_file_extensions/005600000003000000/)\n",
    " - EPSG Codes - https://spatialreference.org/\n",
    " \n"
   ]
  },
  {
   "cell_type": "markdown",
   "metadata": {},
   "source": [
    "**Data Formats**\n",
    "\n",
    " 1. **shapefile**: vector data fromat for storing location informationa and relevant attributes.<br>\n",
    "    **.shp** - main file that stores feature geometry [required]<br>\n",
    "    **.shx** - index file that stores index of feature geometry [required] <br>\n",
    "    **.dbf** - dBASE table that stores attribute information of features [required] <br>\n",
    "    **.prj** - stores coordinate system information [used by ArcGIS] <br>\n",
    "    and many other files constitute a shapefile <br>\n",
    "\n",
    "2. **GeoPackage**: open source format for storing and transferring geospatial information. GeoPackages are able to store both vector data and raster data. In more detail, GeoPackage is a container for an SQLite database with a *.gpkg* extension\n",
    "\n",
    "3. **CRS**: coordinate reference system. Geographics Coordinate - latitude, longitude. Projected coordinate reference systems - x,y coordinates on a flat surface\n",
    "\n",
    "4. **Datum**: defines the origin, orientation and scale of refernce surface related to coordinate system. WGS84 - widely used global datum \n",
    "\n",
    "5. **EPSG**: European Petroleum Survey Group - initially published a spatial reference system. Example: EPSG:4326 = WGS84"
   ]
  },
  {
   "cell_type": "markdown",
   "metadata": {},
   "source": [
    "**Managing Path**\n",
    "\n",
    "Transitioning from string manipulation -> os.path -> pathlib"
   ]
  },
  {
   "cell_type": "markdown",
   "metadata": {},
   "source": [
    "Earlier, file paths have often been hard-coded strings, text values. If, for instance, an output file name had to be derived from an input file name, all kind of slicing and other string manipulation methods would be used. \n",
    "\n",
    "More recently, the os.path module of Python became popular, that allowed to split a path into directories, and file names into base names and file extensions. \n",
    "\n",
    "However, manipulating file paths still required knowledge about the computer a script would ultimately run on. For instance, on all Unix-based operating systems, such as Linux or MacOS, directories are separated by forward-slashes (/), while Microsoft Windows uses back-slashes (\\) (this particular problem can be worked around with os.sep and os.path.join, but not in a very convenient way)."
   ]
  },
  {
   "cell_type": "code",
   "execution_count": 5,
   "metadata": {},
   "outputs": [
    {
     "data": {
      "text/plain": [
       "'/media/abhishek/DATA/freelance/skills/autogis'"
      ]
     },
     "execution_count": 5,
     "metadata": {},
     "output_type": "execute_result"
    }
   ],
   "source": [
    "import os\n",
    "os.getcwd()\n",
    "#basically a path string"
   ]
  },
  {
   "cell_type": "code",
   "execution_count": 6,
   "metadata": {},
   "outputs": [
    {
     "data": {
      "text/plain": [
       "PosixPath('/media/abhishek/DATA/freelance/skills/autogis')"
      ]
     },
     "execution_count": 6,
     "metadata": {},
     "output_type": "execute_result"
    }
   ],
   "source": [
    "import pathlib\n",
    "DIR = pathlib.Path()\n",
    "pathlib.Path().resolve()"
   ]
  },
  {
   "cell_type": "code",
   "execution_count": 19,
   "metadata": {},
   "outputs": [
    {
     "name": "stdout",
     "output_type": "stream",
     "text": [
      "True\n"
     ]
    },
    {
     "data": {
      "text/plain": [
       "True"
      ]
     },
     "execution_count": 19,
     "metadata": {},
     "output_type": "execute_result"
    }
   ],
   "source": [
    "# using os module\n",
    "print(f\"{os.path.exists(os.getcwd())}\")\n",
    "# using pathlib\n",
    "DIR.exists()"
   ]
  },
  {
   "cell_type": "code",
   "execution_count": 26,
   "metadata": {},
   "outputs": [],
   "source": [
    "import pathlib\n",
    "NOTEBOOK_PATH = pathlib.Path().resolve()\n",
    "DATA_DIR = NOTEBOOK_PATH / 'data'"
   ]
  },
  {
   "cell_type": "code",
   "execution_count": 27,
   "metadata": {},
   "outputs": [
    {
     "data": {
      "text/plain": [
       "PosixPath('/media/abhishek/DATA/freelance/skills/autogis/data')"
      ]
     },
     "execution_count": 27,
     "metadata": {},
     "output_type": "execute_result"
    }
   ],
   "source": [
    "DATA_DIR"
   ]
  },
  {
   "cell_type": "code",
   "execution_count": null,
   "metadata": {},
   "outputs": [],
   "source": []
  }
 ],
 "metadata": {
  "kernelspec": {
   "display_name": "autogis",
   "language": "python",
   "name": "python3"
  },
  "language_info": {
   "codemirror_mode": {
    "name": "ipython",
    "version": 3
   },
   "file_extension": ".py",
   "mimetype": "text/x-python",
   "name": "python",
   "nbconvert_exporter": "python",
   "pygments_lexer": "ipython3",
   "version": "3.12.1"
  }
 },
 "nbformat": 4,
 "nbformat_minor": 2
}
